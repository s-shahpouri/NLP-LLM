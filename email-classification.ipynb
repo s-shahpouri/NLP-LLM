{
 "cells": [
  {
   "cell_type": "code",
   "execution_count": null,
   "metadata": {
    "execution": {
     "iopub.execute_input": "2022-09-20T08:42:06.243734Z",
     "iopub.status.busy": "2022-09-20T08:42:06.242335Z",
     "iopub.status.idle": "2022-09-20T08:42:06.249874Z",
     "shell.execute_reply": "2022-09-20T08:42:06.248848Z",
     "shell.execute_reply.started": "2022-09-20T08:42:06.243687Z"
    },
    "trusted": true
   },
   "outputs": [],
   "source": [
    "import re \n",
    "import pandas as pd\n",
    "from tensorflow.keras.models import Sequential\n",
    "from tensorflow.keras.layers import Embedding,LSTM,Dropout,Dense\n",
    "from tensorflow.keras.preprocessing.text import Tokenizer\n",
    "from tensorflow.keras.preprocessing.sequence import pad_sequences\n",
    "from nltk.corpus import stopwords"
   ]
  },
  {
   "cell_type": "code",
   "execution_count": 31,
   "metadata": {
    "execution": {
     "iopub.execute_input": "2022-09-20T08:24:07.045994Z",
     "iopub.status.busy": "2022-09-20T08:24:07.04545Z",
     "iopub.status.idle": "2022-09-20T08:24:07.068085Z",
     "shell.execute_reply": "2022-09-20T08:24:07.067058Z",
     "shell.execute_reply.started": "2022-09-20T08:24:07.04595Z"
    },
    "trusted": true
   },
   "outputs": [],
   "source": [
    "train = pd.read_csv(\"C:/zshahpouri/data/sms/SMS_train.csv\",encoding='latin-1')\n",
    "test = pd.read_csv(\"C:/zshahpouri/data/sms/SMS_train.csv\",encoding='latin-1')"
   ]
  },
  {
   "cell_type": "markdown",
   "metadata": {},
   "source": [
    "#### Encoding Label"
   ]
  },
  {
   "cell_type": "code",
   "execution_count": 32,
   "metadata": {
    "execution": {
     "iopub.execute_input": "2022-09-20T08:25:01.385725Z",
     "iopub.status.busy": "2022-09-20T08:25:01.385129Z",
     "iopub.status.idle": "2022-09-20T08:25:01.406557Z",
     "shell.execute_reply": "2022-09-20T08:25:01.404758Z",
     "shell.execute_reply.started": "2022-09-20T08:25:01.385675Z"
    },
    "trusted": true
   },
   "outputs": [],
   "source": [
    "train['Label'] =  train['Label'].map({\"Non-Spam\":0,\"Spam\":1})\n",
    "test['Label'] =  test['Label'].map({\"Non-Spam\":0,\"Spam\":1})"
   ]
  },
  {
   "cell_type": "code",
   "execution_count": 33,
   "metadata": {
    "execution": {
     "iopub.execute_input": "2022-09-20T08:25:18.371148Z",
     "iopub.status.busy": "2022-09-20T08:25:18.370668Z",
     "iopub.status.idle": "2022-09-20T08:25:18.382505Z",
     "shell.execute_reply": "2022-09-20T08:25:18.381634Z",
     "shell.execute_reply.started": "2022-09-20T08:25:18.371113Z"
    },
    "trusted": true
   },
   "outputs": [
    {
     "data": {
      "text/html": [
       "<div>\n",
       "<style scoped>\n",
       "    .dataframe tbody tr th:only-of-type {\n",
       "        vertical-align: middle;\n",
       "    }\n",
       "\n",
       "    .dataframe tbody tr th {\n",
       "        vertical-align: top;\n",
       "    }\n",
       "\n",
       "    .dataframe thead th {\n",
       "        text-align: right;\n",
       "    }\n",
       "</style>\n",
       "<table border=\"1\" class=\"dataframe\">\n",
       "  <thead>\n",
       "    <tr style=\"text-align: right;\">\n",
       "      <th></th>\n",
       "      <th>S. No.</th>\n",
       "      <th>Message_body</th>\n",
       "      <th>Label</th>\n",
       "    </tr>\n",
       "  </thead>\n",
       "  <tbody>\n",
       "    <tr>\n",
       "      <th>0</th>\n",
       "      <td>1</td>\n",
       "      <td>Rofl. Its true to its name</td>\n",
       "      <td>0</td>\n",
       "    </tr>\n",
       "    <tr>\n",
       "      <th>1</th>\n",
       "      <td>2</td>\n",
       "      <td>The guy did some bitching but I acted like i'd...</td>\n",
       "      <td>0</td>\n",
       "    </tr>\n",
       "    <tr>\n",
       "      <th>2</th>\n",
       "      <td>3</td>\n",
       "      <td>Pity, * was in mood for that. So...any other s...</td>\n",
       "      <td>0</td>\n",
       "    </tr>\n",
       "    <tr>\n",
       "      <th>3</th>\n",
       "      <td>4</td>\n",
       "      <td>Will ü b going to esplanade fr home?</td>\n",
       "      <td>0</td>\n",
       "    </tr>\n",
       "    <tr>\n",
       "      <th>4</th>\n",
       "      <td>5</td>\n",
       "      <td>This is the 2nd time we have tried 2 contact u...</td>\n",
       "      <td>1</td>\n",
       "    </tr>\n",
       "  </tbody>\n",
       "</table>\n",
       "</div>"
      ],
      "text/plain": [
       "   S. No.                                       Message_body  Label\n",
       "0       1                         Rofl. Its true to its name      0\n",
       "1       2  The guy did some bitching but I acted like i'd...      0\n",
       "2       3  Pity, * was in mood for that. So...any other s...      0\n",
       "3       4               Will ü b going to esplanade fr home?      0\n",
       "4       5  This is the 2nd time we have tried 2 contact u...      1"
      ]
     },
     "execution_count": 33,
     "metadata": {},
     "output_type": "execute_result"
    }
   ],
   "source": [
    "train.head()"
   ]
  },
  {
   "cell_type": "markdown",
   "metadata": {},
   "source": [
    "#### Checking missing values"
   ]
  },
  {
   "cell_type": "code",
   "execution_count": 34,
   "metadata": {
    "execution": {
     "iopub.execute_input": "2022-09-20T08:25:32.140035Z",
     "iopub.status.busy": "2022-09-20T08:25:32.139278Z",
     "iopub.status.idle": "2022-09-20T08:25:32.159077Z",
     "shell.execute_reply": "2022-09-20T08:25:32.157676Z",
     "shell.execute_reply.started": "2022-09-20T08:25:32.139973Z"
    },
    "trusted": true
   },
   "outputs": [
    {
     "data": {
      "text/plain": [
       "S. No.          0\n",
       "Message_body    0\n",
       "Label           0\n",
       "dtype: int64"
      ]
     },
     "execution_count": 34,
     "metadata": {},
     "output_type": "execute_result"
    }
   ],
   "source": [
    "train.isna().sum()"
   ]
  },
  {
   "cell_type": "code",
   "execution_count": 35,
   "metadata": {
    "execution": {
     "iopub.execute_input": "2022-09-20T08:25:44.417602Z",
     "iopub.status.busy": "2022-09-20T08:25:44.417145Z",
     "iopub.status.idle": "2022-09-20T08:25:44.430018Z",
     "shell.execute_reply": "2022-09-20T08:25:44.428967Z",
     "shell.execute_reply.started": "2022-09-20T08:25:44.41756Z"
    },
    "trusted": true
   },
   "outputs": [
    {
     "data": {
      "text/plain": [
       "Label\n",
       "0    835\n",
       "1    122\n",
       "Name: count, dtype: int64"
      ]
     },
     "execution_count": 35,
     "metadata": {},
     "output_type": "execute_result"
    }
   ],
   "source": [
    "train['Label'].value_counts()"
   ]
  },
  {
   "cell_type": "markdown",
   "metadata": {},
   "source": [
    "#### cleaning"
   ]
  },
  {
   "cell_type": "code",
   "execution_count": 36,
   "metadata": {
    "execution": {
     "iopub.execute_input": "2022-09-20T08:28:13.324397Z",
     "iopub.status.busy": "2022-09-20T08:28:13.323902Z",
     "iopub.status.idle": "2022-09-20T08:28:13.33395Z",
     "shell.execute_reply": "2022-09-20T08:28:13.332156Z",
     "shell.execute_reply.started": "2022-09-20T08:28:13.324358Z"
    },
    "trusted": true
   },
   "outputs": [],
   "source": [
    "STOPWORDS = stopwords.words(\"english\")"
   ]
  },
  {
   "cell_type": "code",
   "execution_count": 37,
   "metadata": {
    "execution": {
     "iopub.execute_input": "2022-09-20T08:34:23.3904Z",
     "iopub.status.busy": "2022-09-20T08:34:23.389882Z",
     "iopub.status.idle": "2022-09-20T08:34:23.397918Z",
     "shell.execute_reply": "2022-09-20T08:34:23.396381Z",
     "shell.execute_reply.started": "2022-09-20T08:34:23.39036Z"
    },
    "trusted": true
   },
   "outputs": [],
   "source": [
    "def clean(text):\n",
    "    text = text.lower()\n",
    "    text = re.sub(\"(http|https|www)(:|\\.)\\S+.com\",\" \",text)\n",
    "    text = re.sub(\"[^\\w\\d]\",\" \",text)\n",
    "    text = \" \".join([t for t in text.split() if t not in STOPWORDS])\n",
    "    return text "
   ]
  },
  {
   "cell_type": "code",
   "execution_count": 38,
   "metadata": {
    "execution": {
     "iopub.execute_input": "2022-09-20T08:34:23.866056Z",
     "iopub.status.busy": "2022-09-20T08:34:23.865636Z",
     "iopub.status.idle": "2022-09-20T08:34:23.875597Z",
     "shell.execute_reply": "2022-09-20T08:34:23.874017Z",
     "shell.execute_reply.started": "2022-09-20T08:34:23.866023Z"
    },
    "trusted": true
   },
   "outputs": [
    {
     "data": {
      "text/plain": [
       "'hello user'"
      ]
     },
     "execution_count": 38,
     "metadata": {},
     "output_type": "execute_result"
    }
   ],
   "source": [
    "clean(\"Hello #$$% User !  at Https://gmal.com www.hello.com\")"
   ]
  },
  {
   "cell_type": "code",
   "execution_count": 39,
   "metadata": {
    "execution": {
     "iopub.execute_input": "2022-09-20T08:34:28.431211Z",
     "iopub.status.busy": "2022-09-20T08:34:28.430793Z",
     "iopub.status.idle": "2022-09-20T08:34:28.487651Z",
     "shell.execute_reply": "2022-09-20T08:34:28.486163Z",
     "shell.execute_reply.started": "2022-09-20T08:34:28.431178Z"
    },
    "trusted": true
   },
   "outputs": [],
   "source": [
    "train['cleaned']=  train['Message_body'].apply(lambda x : clean(x))"
   ]
  },
  {
   "cell_type": "code",
   "execution_count": 40,
   "metadata": {
    "execution": {
     "iopub.execute_input": "2022-09-20T08:34:29.397076Z",
     "iopub.status.busy": "2022-09-20T08:34:29.395715Z",
     "iopub.status.idle": "2022-09-20T08:34:29.41047Z",
     "shell.execute_reply": "2022-09-20T08:34:29.408996Z",
     "shell.execute_reply.started": "2022-09-20T08:34:29.39702Z"
    },
    "trusted": true
   },
   "outputs": [
    {
     "data": {
      "text/html": [
       "<div>\n",
       "<style scoped>\n",
       "    .dataframe tbody tr th:only-of-type {\n",
       "        vertical-align: middle;\n",
       "    }\n",
       "\n",
       "    .dataframe tbody tr th {\n",
       "        vertical-align: top;\n",
       "    }\n",
       "\n",
       "    .dataframe thead th {\n",
       "        text-align: right;\n",
       "    }\n",
       "</style>\n",
       "<table border=\"1\" class=\"dataframe\">\n",
       "  <thead>\n",
       "    <tr style=\"text-align: right;\">\n",
       "      <th></th>\n",
       "      <th>S. No.</th>\n",
       "      <th>Message_body</th>\n",
       "      <th>Label</th>\n",
       "      <th>cleaned</th>\n",
       "    </tr>\n",
       "  </thead>\n",
       "  <tbody>\n",
       "    <tr>\n",
       "      <th>0</th>\n",
       "      <td>1</td>\n",
       "      <td>Rofl. Its true to its name</td>\n",
       "      <td>0</td>\n",
       "      <td>rofl true name</td>\n",
       "    </tr>\n",
       "    <tr>\n",
       "      <th>1</th>\n",
       "      <td>2</td>\n",
       "      <td>The guy did some bitching but I acted like i'd...</td>\n",
       "      <td>0</td>\n",
       "      <td>guy bitching acted like interested buying some...</td>\n",
       "    </tr>\n",
       "    <tr>\n",
       "      <th>2</th>\n",
       "      <td>3</td>\n",
       "      <td>Pity, * was in mood for that. So...any other s...</td>\n",
       "      <td>0</td>\n",
       "      <td>pity mood suggestions</td>\n",
       "    </tr>\n",
       "    <tr>\n",
       "      <th>3</th>\n",
       "      <td>4</td>\n",
       "      <td>Will ü b going to esplanade fr home?</td>\n",
       "      <td>0</td>\n",
       "      <td>ü b going esplanade fr home</td>\n",
       "    </tr>\n",
       "    <tr>\n",
       "      <th>4</th>\n",
       "      <td>5</td>\n",
       "      <td>This is the 2nd time we have tried 2 contact u...</td>\n",
       "      <td>1</td>\n",
       "      <td>2nd time tried 2 contact u u 750 pound prize 2...</td>\n",
       "    </tr>\n",
       "  </tbody>\n",
       "</table>\n",
       "</div>"
      ],
      "text/plain": [
       "   S. No.                                       Message_body  Label  \\\n",
       "0       1                         Rofl. Its true to its name      0   \n",
       "1       2  The guy did some bitching but I acted like i'd...      0   \n",
       "2       3  Pity, * was in mood for that. So...any other s...      0   \n",
       "3       4               Will ü b going to esplanade fr home?      0   \n",
       "4       5  This is the 2nd time we have tried 2 contact u...      1   \n",
       "\n",
       "                                             cleaned  \n",
       "0                                     rofl true name  \n",
       "1  guy bitching acted like interested buying some...  \n",
       "2                              pity mood suggestions  \n",
       "3                        ü b going esplanade fr home  \n",
       "4  2nd time tried 2 contact u u 750 pound prize 2...  "
      ]
     },
     "execution_count": 40,
     "metadata": {},
     "output_type": "execute_result"
    }
   ],
   "source": [
    "train.head()"
   ]
  },
  {
   "cell_type": "code",
   "execution_count": 41,
   "metadata": {
    "execution": {
     "iopub.execute_input": "2022-09-20T08:34:33.164553Z",
     "iopub.status.busy": "2022-09-20T08:34:33.163482Z",
     "iopub.status.idle": "2022-09-20T08:34:33.1754Z",
     "shell.execute_reply": "2022-09-20T08:34:33.17369Z",
     "shell.execute_reply.started": "2022-09-20T08:34:33.164509Z"
    },
    "trusted": true
   },
   "outputs": [
    {
     "data": {
      "text/plain": [
       "0                                       rofl true name\n",
       "1    guy bitching acted like interested buying some...\n",
       "2                                pity mood suggestions\n",
       "3                          ü b going esplanade fr home\n",
       "4    2nd time tried 2 contact u u 750 pound prize 2...\n",
       "Name: cleaned, dtype: object"
      ]
     },
     "execution_count": 41,
     "metadata": {},
     "output_type": "execute_result"
    }
   ],
   "source": [
    "train['cleaned'][:5]"
   ]
  },
  {
   "cell_type": "code",
   "execution_count": 42,
   "metadata": {
    "execution": {
     "iopub.execute_input": "2022-09-20T08:35:21.30428Z",
     "iopub.status.busy": "2022-09-20T08:35:21.303791Z",
     "iopub.status.idle": "2022-09-20T08:35:21.310315Z",
     "shell.execute_reply": "2022-09-20T08:35:21.308887Z",
     "shell.execute_reply.started": "2022-09-20T08:35:21.304245Z"
    },
    "trusted": true
   },
   "outputs": [],
   "source": [
    "### Hyperparamters \n",
    "vocab_size = 5000\n",
    "max_len = 30"
   ]
  },
  {
   "cell_type": "code",
   "execution_count": 43,
   "metadata": {
    "execution": {
     "iopub.execute_input": "2022-09-20T08:40:41.647505Z",
     "iopub.status.busy": "2022-09-20T08:40:41.646997Z",
     "iopub.status.idle": "2022-09-20T08:40:41.691144Z",
     "shell.execute_reply": "2022-09-20T08:40:41.690068Z",
     "shell.execute_reply.started": "2022-09-20T08:40:41.647453Z"
    },
    "trusted": true
   },
   "outputs": [],
   "source": [
    "token = Tokenizer(num_words=vocab_size)\n",
    "token.fit_on_texts(train['cleaned'])\n",
    "\n",
    "x_train = token.texts_to_sequences(train['cleaned'])"
   ]
  },
  {
   "cell_type": "code",
   "execution_count": 44,
   "metadata": {
    "execution": {
     "iopub.execute_input": "2022-09-20T08:43:34.11771Z",
     "iopub.status.busy": "2022-09-20T08:43:34.117218Z",
     "iopub.status.idle": "2022-09-20T08:43:34.189061Z",
     "shell.execute_reply": "2022-09-20T08:43:34.18788Z",
     "shell.execute_reply.started": "2022-09-20T08:43:34.117674Z"
    },
    "trusted": true
   },
   "outputs": [],
   "source": [
    "x_test = test['Message_body'].apply(lambda x : clean(x))\n",
    "x_test = token.texts_to_sequences(x_test)"
   ]
  },
  {
   "cell_type": "code",
   "execution_count": 45,
   "metadata": {
    "execution": {
     "iopub.execute_input": "2022-09-20T08:44:18.096299Z",
     "iopub.status.busy": "2022-09-20T08:44:18.095814Z",
     "iopub.status.idle": "2022-09-20T08:44:18.10839Z",
     "shell.execute_reply": "2022-09-20T08:44:18.10703Z",
     "shell.execute_reply.started": "2022-09-20T08:44:18.09626Z"
    },
    "trusted": true
   },
   "outputs": [],
   "source": [
    "x_test =  pad_sequences(x_test,padding='pre',truncating='pre',maxlen=max_len)"
   ]
  },
  {
   "cell_type": "code",
   "execution_count": 46,
   "metadata": {
    "execution": {
     "iopub.execute_input": "2022-09-20T08:40:42.595843Z",
     "iopub.status.busy": "2022-09-20T08:40:42.59537Z",
     "iopub.status.idle": "2022-09-20T08:40:42.604469Z",
     "shell.execute_reply": "2022-09-20T08:40:42.60314Z",
     "shell.execute_reply.started": "2022-09-20T08:40:42.595796Z"
    },
    "trusted": true
   },
   "outputs": [
    {
     "data": {
      "text/plain": [
       "[[1179, 187, 164],\n",
       " [219, 1180, 702, 12, 515, 397, 138, 220, 92, 41, 398, 72, 8],\n",
       " [1181, 1182, 1183],\n",
       " [27, 102, 34, 703, 1184, 28],\n",
       " [267,\n",
       "  13,\n",
       "  325,\n",
       "  3,\n",
       "  93,\n",
       "  1,\n",
       "  1,\n",
       "  399,\n",
       "  704,\n",
       "  73,\n",
       "  3,\n",
       "  51,\n",
       "  221,\n",
       "  2,\n",
       "  1185,\n",
       "  1186,\n",
       "  400,\n",
       "  222,\n",
       "  516,\n",
       "  139,\n",
       "  517,\n",
       "  268]]"
      ]
     },
     "execution_count": 46,
     "metadata": {},
     "output_type": "execute_result"
    }
   ],
   "source": [
    "x_train[:5]"
   ]
  },
  {
   "cell_type": "code",
   "execution_count": 47,
   "metadata": {
    "execution": {
     "iopub.execute_input": "2022-09-20T08:40:43.695113Z",
     "iopub.status.busy": "2022-09-20T08:40:43.694657Z",
     "iopub.status.idle": "2022-09-20T08:40:43.710918Z",
     "shell.execute_reply": "2022-09-20T08:40:43.709637Z",
     "shell.execute_reply.started": "2022-09-20T08:40:43.695079Z"
    },
    "trusted": true
   },
   "outputs": [],
   "source": [
    "x_train = pad_sequences(x_train,maxlen=max_len,padding='pre',truncating='pre')"
   ]
  },
  {
   "cell_type": "code",
   "execution_count": 48,
   "metadata": {
    "execution": {
     "iopub.execute_input": "2022-09-20T08:40:44.610723Z",
     "iopub.status.busy": "2022-09-20T08:40:44.610236Z",
     "iopub.status.idle": "2022-09-20T08:40:44.62021Z",
     "shell.execute_reply": "2022-09-20T08:40:44.618608Z",
     "shell.execute_reply.started": "2022-09-20T08:40:44.610686Z"
    },
    "trusted": true
   },
   "outputs": [
    {
     "data": {
      "text/plain": [
       "array([[   0,    0,    0, ..., 1179,  187,  164],\n",
       "       [   0,    0,    0, ...,  398,   72,    8],\n",
       "       [   0,    0,    0, ..., 1181, 1182, 1183],\n",
       "       ...,\n",
       "       [   0,    0,    0, ...,   90, 3058,  332],\n",
       "       [   0,    0,    0, ...,   13,   27,  185],\n",
       "       [   0,    0,    0, ...,    0,  675,  671]], dtype=int32)"
      ]
     },
     "execution_count": 48,
     "metadata": {},
     "output_type": "execute_result"
    }
   ],
   "source": [
    "x_train"
   ]
  },
  {
   "cell_type": "markdown",
   "metadata": {},
   "source": [
    "#### Time to Create  a Neural Network"
   ]
  },
  {
   "cell_type": "code",
   "execution_count": 49,
   "metadata": {
    "execution": {
     "iopub.execute_input": "2022-09-20T08:42:18.089811Z",
     "iopub.status.busy": "2022-09-20T08:42:18.089275Z",
     "iopub.status.idle": "2022-09-20T08:42:18.541328Z",
     "shell.execute_reply": "2022-09-20T08:42:18.540083Z",
     "shell.execute_reply.started": "2022-09-20T08:42:18.089763Z"
    },
    "trusted": true
   },
   "outputs": [
    {
     "name": "stderr",
     "output_type": "stream",
     "text": [
      "c:\\zshahpouri\\nlp_env\\Lib\\site-packages\\keras\\src\\layers\\core\\embedding.py:90: UserWarning: Argument `input_length` is deprecated. Just remove it.\n",
      "  warnings.warn(\n"
     ]
    }
   ],
   "source": [
    "model = Sequential([\n",
    "    Embedding(vocab_size,100,input_length=max_len),\n",
    "    Dropout(0.2),\n",
    "    LSTM(200),\n",
    "    Dropout(0.2),\n",
    "    Dense(1,activation='sigmoid')\n",
    "])"
   ]
  },
  {
   "cell_type": "code",
   "execution_count": 50,
   "metadata": {
    "execution": {
     "iopub.execute_input": "2022-09-20T08:42:43.901814Z",
     "iopub.status.busy": "2022-09-20T08:42:43.901286Z",
     "iopub.status.idle": "2022-09-20T08:42:43.9184Z",
     "shell.execute_reply": "2022-09-20T08:42:43.917029Z",
     "shell.execute_reply.started": "2022-09-20T08:42:43.901776Z"
    },
    "trusted": true
   },
   "outputs": [],
   "source": [
    "model.compile(loss='binary_crossentropy',optimizer='adam',metrics=['acc'])"
   ]
  },
  {
   "cell_type": "code",
   "execution_count": 51,
   "metadata": {
    "execution": {
     "iopub.execute_input": "2022-09-20T08:47:46.022276Z",
     "iopub.status.busy": "2022-09-20T08:47:46.021839Z",
     "iopub.status.idle": "2022-09-20T08:47:46.029596Z",
     "shell.execute_reply": "2022-09-20T08:47:46.028505Z",
     "shell.execute_reply.started": "2022-09-20T08:47:46.022242Z"
    },
    "trusted": true
   },
   "outputs": [
    {
     "data": {
      "text/html": [
       "<pre style=\"white-space:pre;overflow-x:auto;line-height:normal;font-family:Menlo,'DejaVu Sans Mono',consolas,'Courier New',monospace\"><span style=\"font-weight: bold\">Model: \"sequential_1\"</span>\n",
       "</pre>\n"
      ],
      "text/plain": [
       "\u001b[1mModel: \"sequential_1\"\u001b[0m\n"
      ]
     },
     "metadata": {},
     "output_type": "display_data"
    },
    {
     "data": {
      "text/html": [
       "<pre style=\"white-space:pre;overflow-x:auto;line-height:normal;font-family:Menlo,'DejaVu Sans Mono',consolas,'Courier New',monospace\">┏━━━━━━━━━━━━━━━━━━━━━━━━━━━━━━━━━┳━━━━━━━━━━━━━━━━━━━━━━━━┳━━━━━━━━━━━━━━━┓\n",
       "┃<span style=\"font-weight: bold\"> Layer (type)                    </span>┃<span style=\"font-weight: bold\"> Output Shape           </span>┃<span style=\"font-weight: bold\">       Param # </span>┃\n",
       "┡━━━━━━━━━━━━━━━━━━━━━━━━━━━━━━━━━╇━━━━━━━━━━━━━━━━━━━━━━━━╇━━━━━━━━━━━━━━━┩\n",
       "│ embedding_1 (<span style=\"color: #0087ff; text-decoration-color: #0087ff\">Embedding</span>)         │ ?                      │   <span style=\"color: #00af00; text-decoration-color: #00af00\">0</span> (unbuilt) │\n",
       "├─────────────────────────────────┼────────────────────────┼───────────────┤\n",
       "│ dropout_2 (<span style=\"color: #0087ff; text-decoration-color: #0087ff\">Dropout</span>)             │ ?                      │             <span style=\"color: #00af00; text-decoration-color: #00af00\">0</span> │\n",
       "├─────────────────────────────────┼────────────────────────┼───────────────┤\n",
       "│ lstm_1 (<span style=\"color: #0087ff; text-decoration-color: #0087ff\">LSTM</span>)                   │ ?                      │   <span style=\"color: #00af00; text-decoration-color: #00af00\">0</span> (unbuilt) │\n",
       "├─────────────────────────────────┼────────────────────────┼───────────────┤\n",
       "│ dropout_3 (<span style=\"color: #0087ff; text-decoration-color: #0087ff\">Dropout</span>)             │ ?                      │             <span style=\"color: #00af00; text-decoration-color: #00af00\">0</span> │\n",
       "├─────────────────────────────────┼────────────────────────┼───────────────┤\n",
       "│ dense_1 (<span style=\"color: #0087ff; text-decoration-color: #0087ff\">Dense</span>)                 │ ?                      │   <span style=\"color: #00af00; text-decoration-color: #00af00\">0</span> (unbuilt) │\n",
       "└─────────────────────────────────┴────────────────────────┴───────────────┘\n",
       "</pre>\n"
      ],
      "text/plain": [
       "┏━━━━━━━━━━━━━━━━━━━━━━━━━━━━━━━━━┳━━━━━━━━━━━━━━━━━━━━━━━━┳━━━━━━━━━━━━━━━┓\n",
       "┃\u001b[1m \u001b[0m\u001b[1mLayer (type)                   \u001b[0m\u001b[1m \u001b[0m┃\u001b[1m \u001b[0m\u001b[1mOutput Shape          \u001b[0m\u001b[1m \u001b[0m┃\u001b[1m \u001b[0m\u001b[1m      Param #\u001b[0m\u001b[1m \u001b[0m┃\n",
       "┡━━━━━━━━━━━━━━━━━━━━━━━━━━━━━━━━━╇━━━━━━━━━━━━━━━━━━━━━━━━╇━━━━━━━━━━━━━━━┩\n",
       "│ embedding_1 (\u001b[38;5;33mEmbedding\u001b[0m)         │ ?                      │   \u001b[38;5;34m0\u001b[0m (unbuilt) │\n",
       "├─────────────────────────────────┼────────────────────────┼───────────────┤\n",
       "│ dropout_2 (\u001b[38;5;33mDropout\u001b[0m)             │ ?                      │             \u001b[38;5;34m0\u001b[0m │\n",
       "├─────────────────────────────────┼────────────────────────┼───────────────┤\n",
       "│ lstm_1 (\u001b[38;5;33mLSTM\u001b[0m)                   │ ?                      │   \u001b[38;5;34m0\u001b[0m (unbuilt) │\n",
       "├─────────────────────────────────┼────────────────────────┼───────────────┤\n",
       "│ dropout_3 (\u001b[38;5;33mDropout\u001b[0m)             │ ?                      │             \u001b[38;5;34m0\u001b[0m │\n",
       "├─────────────────────────────────┼────────────────────────┼───────────────┤\n",
       "│ dense_1 (\u001b[38;5;33mDense\u001b[0m)                 │ ?                      │   \u001b[38;5;34m0\u001b[0m (unbuilt) │\n",
       "└─────────────────────────────────┴────────────────────────┴───────────────┘\n"
      ]
     },
     "metadata": {},
     "output_type": "display_data"
    },
    {
     "data": {
      "text/html": [
       "<pre style=\"white-space:pre;overflow-x:auto;line-height:normal;font-family:Menlo,'DejaVu Sans Mono',consolas,'Courier New',monospace\"><span style=\"font-weight: bold\"> Total params: </span><span style=\"color: #00af00; text-decoration-color: #00af00\">0</span> (0.00 B)\n",
       "</pre>\n"
      ],
      "text/plain": [
       "\u001b[1m Total params: \u001b[0m\u001b[38;5;34m0\u001b[0m (0.00 B)\n"
      ]
     },
     "metadata": {},
     "output_type": "display_data"
    },
    {
     "data": {
      "text/html": [
       "<pre style=\"white-space:pre;overflow-x:auto;line-height:normal;font-family:Menlo,'DejaVu Sans Mono',consolas,'Courier New',monospace\"><span style=\"font-weight: bold\"> Trainable params: </span><span style=\"color: #00af00; text-decoration-color: #00af00\">0</span> (0.00 B)\n",
       "</pre>\n"
      ],
      "text/plain": [
       "\u001b[1m Trainable params: \u001b[0m\u001b[38;5;34m0\u001b[0m (0.00 B)\n"
      ]
     },
     "metadata": {},
     "output_type": "display_data"
    },
    {
     "data": {
      "text/html": [
       "<pre style=\"white-space:pre;overflow-x:auto;line-height:normal;font-family:Menlo,'DejaVu Sans Mono',consolas,'Courier New',monospace\"><span style=\"font-weight: bold\"> Non-trainable params: </span><span style=\"color: #00af00; text-decoration-color: #00af00\">0</span> (0.00 B)\n",
       "</pre>\n"
      ],
      "text/plain": [
       "\u001b[1m Non-trainable params: \u001b[0m\u001b[38;5;34m0\u001b[0m (0.00 B)\n"
      ]
     },
     "metadata": {},
     "output_type": "display_data"
    }
   ],
   "source": [
    "model.summary()"
   ]
  },
  {
   "cell_type": "code",
   "execution_count": 52,
   "metadata": {
    "execution": {
     "iopub.execute_input": "2022-09-20T08:46:00.245307Z",
     "iopub.status.busy": "2022-09-20T08:46:00.244782Z",
     "iopub.status.idle": "2022-09-20T08:46:12.969715Z",
     "shell.execute_reply": "2022-09-20T08:46:12.967812Z",
     "shell.execute_reply.started": "2022-09-20T08:46:00.245251Z"
    },
    "trusted": true
   },
   "outputs": [
    {
     "name": "stdout",
     "output_type": "stream",
     "text": [
      "Epoch 1/5\n",
      "\u001b[1m30/30\u001b[0m \u001b[32m━━━━━━━━━━━━━━━━━━━━\u001b[0m\u001b[37m\u001b[0m \u001b[1m8s\u001b[0m 108ms/step - acc: 0.8534 - loss: 0.4186 - val_acc: 0.8725 - val_loss: 0.2216\n",
      "Epoch 2/5\n",
      "\u001b[1m30/30\u001b[0m \u001b[32m━━━━━━━━━━━━━━━━━━━━\u001b[0m\u001b[37m\u001b[0m \u001b[1m3s\u001b[0m 88ms/step - acc: 0.9188 - loss: 0.1762 - val_acc: 0.9833 - val_loss: 0.0899\n",
      "Epoch 3/5\n",
      "\u001b[1m30/30\u001b[0m \u001b[32m━━━━━━━━━━━━━━━━━━━━\u001b[0m\u001b[37m\u001b[0m \u001b[1m3s\u001b[0m 96ms/step - acc: 0.9865 - loss: 0.0723 - val_acc: 0.9948 - val_loss: 0.0230\n",
      "Epoch 4/5\n",
      "\u001b[1m30/30\u001b[0m \u001b[32m━━━━━━━━━━━━━━━━━━━━\u001b[0m\u001b[37m\u001b[0m \u001b[1m3s\u001b[0m 93ms/step - acc: 0.9956 - loss: 0.0182 - val_acc: 0.9990 - val_loss: 0.0091\n",
      "Epoch 5/5\n",
      "\u001b[1m30/30\u001b[0m \u001b[32m━━━━━━━━━━━━━━━━━━━━\u001b[0m\u001b[37m\u001b[0m \u001b[1m3s\u001b[0m 90ms/step - acc: 0.9988 - loss: 0.0062 - val_acc: 1.0000 - val_loss: 0.0046\n"
     ]
    }
   ],
   "source": [
    "history =  model.fit(x_train,train['Label'],epochs=5,batch_size=32,validation_data=(x_test,test['Label']))"
   ]
  },
  {
   "cell_type": "code",
   "execution_count": 53,
   "metadata": {
    "execution": {
     "iopub.execute_input": "2022-09-20T08:47:14.728235Z",
     "iopub.status.busy": "2022-09-20T08:47:14.727819Z",
     "iopub.status.idle": "2022-09-20T08:47:15.243448Z",
     "shell.execute_reply": "2022-09-20T08:47:15.241973Z",
     "shell.execute_reply.started": "2022-09-20T08:47:14.728204Z"
    },
    "trusted": true
   },
   "outputs": [
    {
     "data": {
      "text/plain": [
       "<Axes: title={'center': 'Loss'}>"
      ]
     },
     "execution_count": 53,
     "metadata": {},
     "output_type": "execute_result"
    },
    {
     "data": {
      "image/png": "[encoded data removed]",
      "text/plain": [
       "<Figure size 640x480 with 1 Axes>"
      ]
     },
     "metadata": {},
     "output_type": "display_data"
    },
    {
     "data": {
      "image/png": "[encoded data removed]",
      "text/plain": [
       "<Figure size 640x480 with 1 Axes>"
      ]
     },
     "metadata": {},
     "output_type": "display_data"
    }
   ],
   "source": [
    "history_df = pd.DataFrame(history.history)\n",
    "history_df[['acc','val_acc']].plot(title='Accuracy')\n",
    "history_df[['loss','val_loss']].plot(title='Loss')"
   ]
  },
  {
   "cell_type": "code",
   "execution_count": 54,
   "metadata": {
    "execution": {
     "iopub.execute_input": "2022-09-20T08:47:23.490022Z",
     "iopub.status.busy": "2022-09-20T08:47:23.489579Z",
     "iopub.status.idle": "2022-09-20T08:47:24.096484Z",
     "shell.execute_reply": "2022-09-20T08:47:24.095492Z",
     "shell.execute_reply.started": "2022-09-20T08:47:23.489983Z"
    },
    "trusted": true
   },
   "outputs": [
    {
     "name": "stdout",
     "output_type": "stream",
     "text": [
      "\u001b[1m30/30\u001b[0m \u001b[32m━━━━━━━━━━━━━━━━━━━━\u001b[0m\u001b[37m\u001b[0m \u001b[1m1s\u001b[0m 28ms/step - acc: 1.0000 - loss: 0.0041\n"
     ]
    },
    {
     "data": {
      "text/plain": [
       "1.0"
      ]
     },
     "execution_count": 54,
     "metadata": {},
     "output_type": "execute_result"
    }
   ],
   "source": [
    "loss,acc = model.evaluate(x_test,test['Label'])\n",
    "acc"
   ]
  }
 ],
 "metadata": {
  "kaggle": {
   "accelerator": "none",
   "dataSources": [
    {
     "datasetId": 888171,
     "sourceId": 1507821,
     "sourceType": "datasetVersion"
    }
   ],
   "dockerImageVersionId": 30260,
   "isGpuEnabled": false,
   "isInternetEnabled": false,
   "language": "python",
   "sourceType": "notebook"
  },
  "kernelspec": {
   "display_name": "nlp_env",
   "language": "python",
   "name": "nlp_env"
  },
  "language_info": {
   "codemirror_mode": {
    "name": "ipython",
    "version": 3
   },
   "file_extension": ".py",
   "mimetype": "text/x-python",
   "name": "python",
   "nbconvert_exporter": "python",
   "pygments_lexer": "ipython3",
   "version": "3.11.9"
  }
 },
 "nbformat": 4,
 "nbformat_minor": 4
}
