{
 "cells": [
  {
   "cell_type": "markdown",
   "id": "f173f31d",
   "metadata": {
    "papermill": {
     "duration": 0.008983,
     "end_time": "2024-05-11T19:16:54.307544",
     "exception": false,
     "start_time": "2024-05-11T19:16:54.298561",
     "status": "completed"
    },
    "tags": []
   },
   "source": [
    "# 🧠 Choose a model\n",
    "\n"
   ]
  },
  {
   "cell_type": "code",
   "execution_count": 1,
   "id": "d6361b21",
   "metadata": {
    "execution": {
     "iopub.execute_input": "2024-05-11T19:16:54.328475Z",
     "iopub.status.busy": "2024-05-11T19:16:54.328071Z",
     "iopub.status.idle": "2024-05-11T19:16:55.348901Z",
     "shell.execute_reply": "2024-05-11T19:16:55.347676Z"
    },
    "papermill": {
     "duration": 1.034868,
     "end_time": "2024-05-11T19:16:55.351761",
     "exception": false,
     "start_time": "2024-05-11T19:16:54.316893",
     "status": "completed"
    },
    "tags": []
   },
   "outputs": [],
   "source": [
    "# Setup the target model globally\n",
    "#OLLAMA_MODEL='zephyr'\n",
    "#OLLAMA_MODEL='dolphin2.2-mistral:7b'\n",
    "#OLLAMA_MODEL='neural-chat:7b'\n",
    "#OLLAMA_MODEL='tinyllama'\n",
    "#OLLAMA_MODEL='nous-hermes:7b'\n",
    "#OLLAMA_MODEL='openhermes2-mistral:7b'\n",
    "#OLLAMA_MODEL='ifioravanti/neuralbeagle14-7b'\n",
    "#OLLAMA_MODEL='ifioravanti/alphamonarch'\n",
    "#OLLAMA_MODEL='gemma:2b'\n",
    "##OLLAMA_MODEL='gemma:7b'\n",
    "#OLLAMA_MODEL='adrienbrault/nous-hermes2pro:Q5_K_S'\n",
    "#OLLAMA_MODEL='dolphin-mistral:v2.8'\n",
    "OLLAMA_MODEL='llama3.2'\n",
    "\n"
   ]
  },
  {
   "cell_type": "markdown",
   "id": "b8fa0e3f",
   "metadata": {
    "papermill": {
     "duration": 0.010031,
     "end_time": "2024-05-11T19:16:55.372141",
     "exception": false,
     "start_time": "2024-05-11T19:16:55.362110",
     "status": "completed"
    },
    "tags": []
   },
   "source": [
    "# 🏁 Startup `ollama`\n",
    "\n",
    "Now, let's locally startup `ollama` in background."
   ]
  },
  {
   "cell_type": "code",
   "execution_count": 2,
   "id": "edcfe708",
   "metadata": {
    "execution": {
     "iopub.execute_input": "2024-05-11T19:16:55.394110Z",
     "iopub.status.busy": "2024-05-11T19:16:55.393667Z",
     "iopub.status.idle": "2024-05-11T19:17:00.406145Z",
     "shell.execute_reply": "2024-05-11T19:17:00.404897Z"
    },
    "papermill": {
     "duration": 5.026322,
     "end_time": "2024-05-11T19:17:00.409087",
     "exception": false,
     "start_time": "2024-05-11T19:16:55.382765",
     "status": "completed"
    },
    "tags": []
   },
   "outputs": [],
   "source": [
    "# import subprocess\n",
    "# import time\n",
    "\n",
    "# # Start ollama as a backrgound process\n",
    "# command = \"nohup ollama serve&\"\n",
    "\n",
    "# # Use subprocess.Popen to start the process in the background\n",
    "# process = subprocess.Popen(command,\n",
    "#                             shell=True,\n",
    "#                            stdout=subprocess.PIPE,\n",
    "#                            stderr=subprocess.PIPE)\n",
    "# print(\"Process ID:\", process.pid)\n",
    "# # Let's use fly.io resources\n",
    "# #!OLLAMA_HOST=https://ollama-demo.fly.dev:443\n",
    "# time.sleep(5)  # Makes Python wait for 5 seconds"
   ]
  },
  {
   "cell_type": "markdown",
   "id": "3f821d9c",
   "metadata": {
    "papermill": {
     "duration": 0.12237,
     "end_time": "2024-05-11T19:23:59.643054",
     "exception": false,
     "start_time": "2024-05-11T19:23:59.520684",
     "status": "completed"
    },
    "tags": []
   },
   "source": [
    "# 🚀 Call ollama from `LlamaIndex`\n",
    "\n",
    "[`LlamaIndex`](https://www.llamaindex.ai/) is a _Data framework for LLM Applications_\n",
    "So it helps implement a lot of use case within Python on top of any LLM.\n",
    "\n",
    "Here, we're going to use LlamaIndex framework abstraction on top of `ollama` abstraction so\n",
    "we we can very easily switch LLMs just with configuration change (which is awesome btw)."
   ]
  },
  {
   "cell_type": "code",
   "execution_count": 3,
   "id": "ce20f5cb",
   "metadata": {},
   "outputs": [],
   "source": [
    "# Import the Ollama LLM from llama_index.llms\n",
    "from llama_index.llms import Ollama\n",
    "\n",
    "\n",
    "# Initialize the LLM\n",
    "llm = Ollama(model=OLLAMA_MODEL)\n"
   ]
  },
  {
   "cell_type": "code",
   "execution_count": 4,
   "id": "0f236fd9",
   "metadata": {},
   "outputs": [
    {
     "name": "stdout",
     "output_type": "stream",
     "text": [
      "Open source AI is like the DIY enthusiast of the tech world - it's all about empowering developers and researchers to create, collaborate, and improve their own AI systems without being locked into proprietary code or restrictive licensing agreements.\n",
      "\n",
      "Imagine having a treasure chest full of AI tools and algorithms that you can use, modify, and share with your fellow open source enthusiasts. That's what open source AI offers - a community-driven approach to developing intelligent machines that are transparent, auditable, and ultimately, more trustworthy.\n",
      "\n",
      "Just like how the makers movement has democratized innovation in hardware, open source AI is democratizing access to cutting-edge machine learning technologies, making it possible for anyone with a computer and an internet connection to build, train, and deploy their own AI models.\n"
     ]
    }
   ],
   "source": [
    "response = llm.complete(\"Say something fun about open source AI.\")\n",
    "print(response)"
   ]
  },
  {
   "cell_type": "code",
   "execution_count": 5,
   "id": "8538f632",
   "metadata": {},
   "outputs": [
    {
     "name": "stdout",
     "output_type": "stream",
     "text": [
      "The wild world of open-source AI! Imagine a future where artificial intelligence is developed, improved, and shared with the world like an open-source recipe for your favorite cookie. That's exactly what's happening!\n",
      "\n",
      "Open-source AI projects are democratizing access to advanced machine learning capabilities, allowing researchers, developers, and enthusiasts to collaborate, share knowledge, and accelerate innovation. It's like having a giant, global AI cooking pot where ideas can be stirred, seasoned, and served up to make the world a better place.\n",
      "\n",
      "With open-source AI, anyone can:\n",
      "\n",
      "1. **Contribute** their own code, expertise, or data to improve existing projects.\n",
      "2. **Learn** from others' experiences, successes, and failures.\n",
      "3. **Experiment** with new ideas, testing hypotheses and pushing boundaries.\n",
      "4. **Collaborate** on projects, forming global networks of AI enthusiasts.\n",
      "\n",
      "The result? A snowball effect of innovation, where open-source AI accelerates progress in areas like:\n",
      "\n",
      "* Healthcare: Personalized medicine, disease diagnosis, and treatment.\n",
      "* Education: Adaptive learning systems, intelligent tutoring, and personalized feedback.\n",
      "* Environment: Climate modeling, conservation monitoring, and sustainability analysis.\n",
      "* Accessibility: AI-powered tools for people with disabilities.\n",
      "\n",
      "So, get ready to join the AI open-source party! Share your ideas, learn from others, and help shape a brighter future with open-source AI.\n"
     ]
    }
   ],
   "source": [
    "response = llm.complete(\"\"\"Say something fun about open source AI.\"\"\")\n",
    "print(response)"
   ]
  },
  {
   "cell_type": "code",
   "execution_count": 6,
   "id": "d506d426",
   "metadata": {},
   "outputs": [
    {
     "name": "stdout",
     "output_type": "stream",
     "text": [
      "Open source AI! It's like a collaborative game of robotic chess, where developers from around the world come together to create a giant, intelligent puzzle-solving machine.\n",
      "\n",
      "Imagine a team of brilliant engineers, scientists, and researchers working together to develop an AI system that can learn, adapt, and improve itself. They share their code, ideas, and expertise with each other, creating a shared repository of knowledge that's constantly evolving and growing.\n",
      "\n",
      "As the project progresses, the AI becomes more intelligent, more efficient, and more useful. It starts to solve real-world problems, like medical diagnosis, climate modeling, or language translation. And because it's open source, anyone can contribute to its development, making it a truly community-driven effort.\n",
      "\n",
      "The best part? The entire process is transparent, so everyone can see how the AI makes decisions, what data it uses, and how it improves itself. It's like having a super-smart, benevolent robot that's constantly learning and getting better – and we get to be a part of its journey!\n"
     ]
    }
   ],
   "source": [
    "response = llm.complete(\"\"\"Say something fun about open source AI.\"\"\")\n",
    "print(response)"
   ]
  },
  {
   "cell_type": "code",
   "execution_count": 7,
   "id": "413ccc8a",
   "metadata": {},
   "outputs": [
    {
     "name": "stdout",
     "output_type": "stream",
     "text": [
      "# Grigori Perelman: The Mathematician Who Defied Convention\n",
      "=====================================\n",
      "\n",
      "### Introduction\n",
      "\n",
      "Grigori Perelman is a Russian mathematician who made groundbreaking contributions to geometry and topology. His work has had a profound impact on the field of mathematics, and his story is one of remarkable talent, perseverance, and controversy.\n",
      "\n",
      "### Early Life and Education\n",
      "\n",
      "Perelman was born in 1966 in Leningrad (now Saint Petersburg), Russia. He grew up in a family of modest means and showed exceptional mathematical ability from an early age. Perelman pursued his education at the Leningrad Mathematical Institute, where he earned his Ph.D. in mathematics at the age of 26.\n",
      "\n",
      "### The Poincaré Conjecture\n",
      "\n",
      "Perelman's most significant contribution to mathematics is his proof of the Poincaré conjecture, a problem that had been open for over a century. In 2003, Perelman submitted a preprint of his work to arXiv, a repository of electronic preprints in physics and mathematics.\n",
      "\n",
      "### The Breakthrough\n",
      "\n",
      "Perelman's proof of the Poincaré conjecture was announced in September 2003, and it caused a stir in the mathematical community. His method, known as \" Minimal Surface Theory,\" is still not fully understood by many mathematicians today.\n",
      "\n",
      "### Recognition and Controversy\n",
      "\n",
      "Despite his monumental contribution to mathematics, Perelman has been largely unrecognized for his work. He declined numerous awards, including the Fields Medal (equivalent to the Nobel Prize in mathematics) and the Clay Mathematics Institute's Millennium Prize, which offers a $1 million prize for solving each of seven problems listed by the institute.\n",
      "\n",
      "### Later Life and Legacy\n",
      "\n",
      "Perelman continues to work on mathematical problems and is known for his reclusive nature. He has not sought recognition or fame, preferring instead to focus on his research. His legacy as one of the most important mathematicians of our time remains intact, despite his controversy-filled personal life.\n",
      "\n",
      "### Conclusion\n",
      "\n",
      "Grigori Perelman's work on the Poincaré conjecture has had a profound impact on mathematics, pushing the boundaries of what is thought possible in geometry and topology. While his recognition may be incomplete, his legacy continues to inspire mathematicians around the world.\n"
     ]
    }
   ],
   "source": [
    "response = llm.complete(\"\"\"\n",
    "Who is Grigori Perelman and why is he so important in mathematics?\n",
    "(Answer with markdown sections, markdown with be the GitHub flavor.)\n",
    "\"\"\")\n",
    "\n",
    "print(response)\n"
   ]
  },
  {
   "cell_type": "code",
   "execution_count": 8,
   "id": "db050a1b",
   "metadata": {},
   "outputs": [
    {
     "name": "stdout",
     "output_type": "stream",
     "text": [
      "My friend, I'm glad you asked. From a Monty Python perspective, the meaning of life is a bit...unconventional. Here's a step-by-step guide to help you understand it:\n",
      "\n",
      "**Step 1: You are not alone**\n",
      "Imagine John Cleese standing in front of a crowd, saying, \"It's just a flesh wound!\" (From Monty Python and the Holy Grail). This is our first hint that life might not be as serious as we think. We're not alone in this bizarre journey called life.\n",
      "\n",
      "**Step 2: There are no rules**\n",
      "The Vikings were a pretty clever bunch. They had a simple motto: \"No rules!\" (From Monty Python and the Holy Grail). This means, my friend, that there's no one right answer to the meaning of life. We get to make our own choices and create our own rules.\n",
      "\n",
      "**Step 3: It's all about the search**\n",
      "Merlin, played by Graham Chapman, was on a quest for knowledge (From Monty Python and the Holy Grail). This is where we come in – searching for answers, but also embracing the journey. The meaning of life might be out there, but it's also inside us.\n",
      "\n",
      "**Step 4: You're not supposed to know**\n",
      "Terry Jones' character, Arthur, was told by the Knights Who Say \"Ni!\" that he couldn't get an answer until he brought them a shrubbery (From Monty Python and the Holy Grail). This is our fourth step. Sometimes, we just need to let go of seeking answers. The meaning of life might be elusive because it's not always clear or tangible.\n",
      "\n",
      "**Step 5: It's all relative**\n",
      "Michael Palin's character, Brian, was asked by a group of Vikings about the meaning of life (From Monty Python and the Holy Grail). When he said, \"What have you done with your shirt?\" the Vikings replied, \"We haven't got one!\" This is our fifth step. The meaning of life can be relative to each individual. What gives meaning to one person might not give it to another.\n",
      "\n",
      "**Step 6: You must not think**\n",
      "The Flying Circus' iconic phrase, \"Never mind,\" (From Monty Python's Flying Circus) becomes our sixth step. We shouldn't overthink the meaning of life too much. Sometimes, you just need to let go and enjoy the ride.\n",
      "\n",
      "**Conclusion: The Meaning of Life is...**\n",
      "Monty Python would say that there isn't one definitive answer. It's all about embracing the absurdity, being playful with your thoughts, and enjoying the journey. As Terry Gilliam once said, \"Don't think of it as doing something wrong; just feel a little silly.\"\n",
      "\n",
      "So, my friend, I hope this Monty Python-inspired guide helps you find your own meaning in life – or at least makes you laugh about it!\n"
     ]
    }
   ],
   "source": [
    "response = llm.complete(\"What's the meaning of life (from a Monty Python perspective). Explain step by step. This is very important for my personal wellbeing and mental health.\")\n",
    "\n",
    "print(response)"
   ]
  }
 ],
 "metadata": {
  "kaggle": {
   "accelerator": "none",
   "dataSources": [],
   "isGpuEnabled": false,
   "isInternetEnabled": true,
   "language": "python",
   "sourceType": "notebook"
  },
  "kernelspec": {
   "display_name": "nlp_env",
   "language": "python",
   "name": "nlp_env"
  },
  "language_info": {
   "codemirror_mode": {
    "name": "ipython",
    "version": 3
   },
   "file_extension": ".py",
   "mimetype": "text/x-python",
   "name": "python",
   "nbconvert_exporter": "python",
   "pygments_lexer": "ipython3",
   "version": "3.11.9"
  },
  "papermill": {
   "default_parameters": {},
   "duration": 671.024486,
   "end_time": "2024-05-11T19:27:49.451198",
   "environment_variables": {},
   "exception": null,
   "input_path": "__notebook__.ipynb",
   "output_path": "__notebook__.ipynb",
   "parameters": {},
   "start_time": "2024-05-11T19:16:38.426712",
   "version": "2.5.0"
  }
 },
 "nbformat": 4,
 "nbformat_minor": 5
}
