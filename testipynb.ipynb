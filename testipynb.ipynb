{
 "cells": [
  {
   "cell_type": "code",
   "execution_count": 7,
   "metadata": {},
   "outputs": [
    {
     "name": "stdout",
     "output_type": "stream",
     "text": [
      "True\n",
      "False\n"
     ]
    }
   ],
   "source": [
    "def validate_parentheses(s):\n",
    "    stack = []\n",
    "    for char in s:\n",
    "        if char == '(':\n",
    "            stack.append(char)\n",
    "        elif char == ')':\n",
    "            if not stack:\n",
    "                return False\n",
    "            stack.pop()\n",
    "    return not stack\n",
    "\n",
    "# Test\n",
    "print(validate_parentheses(\"((efgfdbfdsdfd))\"))  # Output: True\n",
    "print(validate_parentheses(\"((sedrg)\"))   # Output: False\n"
   ]
  },
  {
   "cell_type": "code",
   "execution_count": 8,
   "metadata": {},
   "outputs": [
    {
     "name": "stdout",
     "output_type": "stream",
     "text": [
      "Room the in Elephants\n"
     ]
    }
   ],
   "source": [
    "def reverse_words(s):\n",
    "    return ' '.join(s.split()[::-1])\n",
    "print(reverse_words(\"Elephants in the Room\"))\n"
   ]
  },
  {
   "cell_type": "code",
   "execution_count": 9,
   "metadata": {},
   "outputs": [
    {
     "name": "stdout",
     "output_type": "stream",
     "text": [
      "mooR eht ni stnahpelE\n"
     ]
    }
   ],
   "source": [
    "def reverse_words_and_letters(sentence):\n",
    "    # Split the sentence into words, reverse each word, and reverse the order of the words\n",
    "    reversed_sentence = ' '.join(word[::-1] for word in sentence.split()[::-1])\n",
    "    return reversed_sentence\n",
    "\n",
    "# Test\n",
    "\n",
    "\n",
    "text = 'Elephants in the Room'\n",
    "print(reverse_words_and_letters(text))  # Output: \"mooR eht ni stnahpelE\"\n",
    "\n"
   ]
  },
  {
   "cell_type": "markdown",
   "metadata": {},
   "source": [
    "Write a function that rotates a list to the right by k steps.\n",
    "\n",
    "Input: [1, 2, 3, 4, 5], k = 2\n",
    "Output: [4, 5, 1, 2, 3]"
   ]
  },
  {
   "cell_type": "code",
   "execution_count": 10,
   "metadata": {},
   "outputs": [
    {
     "name": "stdout",
     "output_type": "stream",
     "text": [
      "[4, 5, 1, 2, 3]\n"
     ]
    }
   ],
   "source": [
    "def rotate (input, k):\n",
    "    return print(input[-k:] + input[:-k])\n",
    "\n",
    "input = [1, 2, 3, 4, 5]\n",
    "k = 2\n",
    "rotate(input, k)"
   ]
  },
  {
   "cell_type": "code",
   "execution_count": 11,
   "metadata": {},
   "outputs": [
    {
     "name": "stdout",
     "output_type": "stream",
     "text": [
      "Counter({'e': 2, 'l': 1, 'p': 1, 'h': 1, 'a': 1, 'n': 1, 't': 1})\n"
     ]
    }
   ],
   "source": [
    "from collections import Counter\n",
    "def count_chars(s):\n",
    "    return Counter(s)\n",
    "print(count_chars(\"elephant\"))\n"
   ]
  },
  {
   "cell_type": "code",
   "execution_count": 12,
   "metadata": {},
   "outputs": [
    {
     "name": "stdout",
     "output_type": "stream",
     "text": [
      "[1, 2]\n"
     ]
    }
   ],
   "source": [
    "def find_duplicates(lst):\n",
    "    seen = set()\n",
    "    duplicates = set()\n",
    "    for num in lst:\n",
    "        if num in seen:\n",
    "            duplicates.add(num)\n",
    "        else:\n",
    "            seen.add(num)\n",
    "    return list(duplicates)\n",
    "print(find_duplicates([1, 2, 3, 4, 1, 2, 5]))\n"
   ]
  },
  {
   "cell_type": "code",
   "execution_count": 13,
   "metadata": {},
   "outputs": [
    {
     "data": {
      "text/plain": [
       "[1, 2, 3, 4]"
      ]
     },
     "execution_count": 13,
     "metadata": {},
     "output_type": "execute_result"
    }
   ],
   "source": [
    "list(set([1, 2, 3, 4, 1, 2, 3]))"
   ]
  },
  {
   "cell_type": "code",
   "execution_count": 14,
   "metadata": {},
   "outputs": [
    {
     "name": "stdout",
     "output_type": "stream",
     "text": [
      "True\n"
     ]
    }
   ],
   "source": [
    "def is_palindrome(s):\n",
    "    s = ''.join(filter(str.isalnum, s)).lower()\n",
    "    return s == s[::-1]\n",
    "print(is_palindrome(\"A man, a plan, a canal: Panama\"))\n"
   ]
  },
  {
   "cell_type": "code",
   "execution_count": 15,
   "metadata": {},
   "outputs": [
    {
     "name": "stdout",
     "output_type": "stream",
     "text": [
      "23\n"
     ]
    }
   ],
   "source": [
    "def sum_of_multiples(limit):\n",
    "    return sum(x for x in range(limit) if x % 3 == 0 or x % 5 == 0)\n",
    "print(sum_of_multiples(10))\n"
   ]
  },
  {
   "cell_type": "markdown",
   "metadata": {},
   "source": [
    "\n",
    "Here are common examples of algorithmic thinking tests, complete with problem descriptions and Python solutions for the mentioned topics:\n",
    "\n",
    "1. Sorting Algorithms: Implementing Bubble Sort\n",
    "Write a function to implement the Bubble Sort algorithm.\n",
    "\n",
    "Example:\n",
    "\n",
    "python\n",
    "Copy code\n",
    "Input: [64, 34, 25, 12, 22, 11, 90]\n",
    "Output: [11, 12, 22, 25, 34, 64, 90]\n",
    "Solution:\n",
    "\n",
    "python\n",
    "Copy code\n",
    "def bubble_sort(arr):\n",
    "    n = len(arr)\n",
    "    for i in range(n):\n",
    "        for j in range(0, n - i - 1):\n",
    "            if arr[j] > arr[j + 1]:\n",
    "                arr[j], arr[j + 1] = arr[j + 1], arr[j]\n",
    "    return arr\n",
    "\n",
    "# Test\n",
    "print(bubble_sort([64, 34, 25, 12, 22, 11, 90]))  \n",
    "# Output: [11, 12, 22, 25, 34, 64, 90]\n",
    "2. Searching Algorithms: Implementing Binary Search\n",
    "Write a function to perform a binary search on a sorted array.\n",
    "\n",
    "Example:\n",
    "\n",
    "python\n",
    "Copy code\n",
    "Input: arr = [1, 3, 5, 7, 9, 11], target = 5\n",
    "Output: 2  # Index of 5 in the array\n",
    "Solution:\n",
    "\n",
    "python\n",
    "Copy code\n",
    "def binary_search(arr, target):\n",
    "    left, right = 0, len(arr) - 1\n",
    "    while left <= right:\n",
    "        mid = (left + right) // 2\n",
    "        if arr[mid] == target:\n",
    "            return mid\n",
    "        elif arr[mid] < target:\n",
    "            left = mid + 1\n",
    "        else:\n",
    "            right = mid - 1\n",
    "    return -1  # Target not found\n",
    "\n",
    "# Test\n",
    "print(binary_search([1, 3, 5, 7, 9, 11], 5))  # Output: 2\n",
    "3. Sliding Window Pattern: Maximum Sum of Subarray\n",
    "Find the maximum sum of a subarray with a fixed size k.\n",
    "\n",
    "Example:\n",
    "\n",
    "python\n",
    "Copy code\n",
    "Input: arr = [2, 1, 5, 1, 3, 2], k = 3\n",
    "Output: 9  # Subarray [5, 1, 3]\n",
    "Solution:\n",
    "\n",
    "python\n",
    "Copy code\n",
    "def max_subarray_sum(arr, k):\n",
    "    max_sum = current_sum = sum(arr[:k])\n",
    "    for i in range(k, len(arr)):\n",
    "        current_sum += arr[i] - arr[i - k]\n",
    "        max_sum = max(max_sum, current_sum)\n",
    "    return max_sum\n",
    "\n",
    "# Test\n",
    "print(max_subarray_sum([2, 1, 5, 1, 3, 2], 3))  # Output: 9\n",
    "4. Two-Pointer Technique: Find Pair with Target Sum\n",
    "Find a pair of numbers in a sorted array that adds up to a target sum.\n",
    "\n",
    "Example:\n",
    "\n",
    "python\n",
    "Copy code\n",
    "Input: arr = [1, 2, 3, 4, 6], target = 6\n",
    "Output: [1, 3]  # Indices of numbers (2, 4)\n",
    "Solution:\n",
    "\n",
    "python\n",
    "Copy code\n",
    "def find_pair_with_sum(arr, target):\n",
    "    left, right = 0, len(arr) - 1\n",
    "    while left < right:\n",
    "        current_sum = arr[left] + arr[right]\n",
    "        if current_sum == target:\n",
    "            return [left, right]\n",
    "        elif current_sum < target:\n",
    "            left += 1\n",
    "        else:\n",
    "            right -= 1\n",
    "    return []  # No pair found\n",
    "\n",
    "# Test\n",
    "print(find_pair_with_sum([1, 2, 3, 4, 6], 6))  # Output: [1, 3]\n",
    "5. Recursion: Fibonacci Numbers\n",
    "Write a function to find the nth Fibonacci number using recursion.\n",
    "\n",
    "Example:\n",
    "\n",
    "python\n",
    "Copy code\n",
    "Input: n = 6\n",
    "Output: 8  # Fibonacci sequence: 0, 1, 1, 2, 3, 5, 8\n",
    "Solution:\n",
    "\n",
    "python\n",
    "Copy code\n",
    "def fibonacci(n):\n",
    "    if n <= 1:\n",
    "        return n\n",
    "    return fibonacci(n - 1) + fibonacci(n - 2)\n",
    "\n",
    "# Test\n",
    "print(fibonacci(6))  # Output: 8\n",
    "6. Merge Sort Algorithm\n",
    "Write a function to implement the Merge Sort algorithm.\n",
    "\n",
    "Example:\n",
    "\n",
    "python\n",
    "Copy code\n",
    "Input: [38, 27, 43, 3, 9, 82, 10]\n",
    "Output: [3, 9, 10, 27, 38, 43, 82]\n",
    "Solution:\n",
    "\n",
    "python\n",
    "Copy code\n",
    "def merge_sort(arr):\n",
    "    if len(arr) > 1:\n",
    "        mid = len(arr) // 2\n",
    "        left = arr[:mid]\n",
    "        right = arr[mid:]\n",
    "\n",
    "        merge_sort(left)\n",
    "        merge_sort(right)\n",
    "\n",
    "        i = j = k = 0\n",
    "        while i < len(left) and j < len(right):\n",
    "            if left[i] < right[j]:\n",
    "                arr[k] = left[i]\n",
    "                i += 1\n",
    "            else:\n",
    "                arr[k] = right[j]\n",
    "                j += 1\n",
    "            k += 1\n",
    "\n",
    "        while i < len(left):\n",
    "            arr[k] = left[i]\n",
    "            i += 1\n",
    "            k += 1\n",
    "\n",
    "        while j < len(right):\n",
    "            arr[k] = right[j]\n",
    "            j += 1\n",
    "            k += 1\n",
    "    return arr\n"
   ]
  },
  {
   "cell_type": "markdown",
   "metadata": {},
   "source": [
    "\n",
    "# Test\n",
    "print(merge_sort([38, 27, 43, 3, 9, 82, 10]))  \n",
    "# Output: [3, 9, 10, 27, 38, 43, 82]\n"
   ]
  },
  {
   "cell_type": "markdown",
   "metadata": {},
   "source": [
    "7. Recursive Backtracking: Subset Sum\n",
    "Find all subsets of an array that sum to a target value."
   ]
  },
  {
   "cell_type": "code",
   "execution_count": 16,
   "metadata": {},
   "outputs": [
    {
     "name": "stdout",
     "output_type": "stream",
     "text": [
      "[[1, 2], [3]]\n"
     ]
    }
   ],
   "source": [
    "def subset_sum(arr, target):\n",
    "    result = []\n",
    "\n",
    "    def backtrack(start, path, total):\n",
    "        if total == target:\n",
    "            result.append(path[:])\n",
    "            return\n",
    "        for i in range(start, len(arr)):\n",
    "            if total + arr[i] <= target:\n",
    "                path.append(arr[i])\n",
    "                backtrack(i + 1, path, total + arr[i])\n",
    "                path.pop()\n",
    "\n",
    "    backtrack(0, [], 0)\n",
    "    return result\n",
    "\n",
    "# Test\n",
    "print(subset_sum([1, 2, 3], 3))  # Output: [[1, 2], [3]]\n"
   ]
  },
  {
   "cell_type": "markdown",
   "metadata": {},
   "source": [
    "palindrome"
   ]
  },
  {
   "cell_type": "code",
   "execution_count": 17,
   "metadata": {},
   "outputs": [
    {
     "name": "stdout",
     "output_type": "stream",
     "text": [
      "Original strings:\n",
      "['palindrome', 'madamimadam', '', 'foo', 'eyes']\n",
      "\n",
      "Test whether the given strings are palindromes or not:\n",
      "[False, True, True, False, False]\n"
     ]
    }
   ],
   "source": [
    "\n",
    "# Define a function named 'test' that takes a list of strings 'strs' as input\n",
    "def test(strs):\n",
    "    # Use a list comprehension to check if each string in 'strs' is a palindrome (reads the same forwards and backwards)\n",
    "    return [s == s[::-1] for s in strs]\n",
    "\n",
    "# Create a list of strings 'strs' with specific elements\n",
    "strs = ['palindrome', 'madamimadam', '', 'foo', 'eyes']\n",
    "\n",
    "# Print the original list of strings\n",
    "print(\"Original strings:\")\n",
    "print(strs)\n",
    "\n",
    "# Print a message indicating the operation to be performed on the list\n",
    "print(\"\\nTest whether the given strings are palindromes or not:\")\n",
    "\n",
    "# Print the result of the test function applied to the 'strs' list\n",
    "print(test(strs))"
   ]
  },
  {
   "cell_type": "code",
   "execution_count": 18,
   "metadata": {},
   "outputs": [
    {
     "name": "stdout",
     "output_type": "stream",
     "text": [
      "Original strings:\n",
      "['cat', 'car', 'fear', 'center']\n",
      "Starting prefix: ca\n"
     ]
    }
   ],
   "source": [
    "# Define a function named 'test' that takes a list of strings 'strs' and a prefix 'prefix' as input\n",
    "def test(strs, prefix):\n",
    "    # Use a list comprehension to filter strings in 'strs' that start with the given 'prefix'\n",
    "    return [s for s in strs if s.startswith(prefix)]\n",
    "\n",
    "# Create a list of strings 'strs' with specific elements\n",
    "strs = ['cat', 'car', 'fear', 'center']\n",
    "\n",
    "# Assign a specific prefix 'prefix' to the variable\n",
    "prefix = \"ca\"\n",
    "\n",
    "# Print the original list of strings\n",
    "print(\"Original strings:\")\n",
    "print(strs)\n",
    "\n",
    "# Print the starting prefix\n",
    "print(\"Starting prefix:\", prefix)\n",
    "\n"
   ]
  },
  {
   "cell_type": "code",
   "execution_count": 19,
   "metadata": {},
   "outputs": [
    {
     "name": "stdout",
     "output_type": "stream",
     "text": [
      "Original strings:\n",
      "['cat', 'car', 'fear', 'center']\n",
      "Longest string of the said list of strings:\n",
      "center\n"
     ]
    }
   ],
   "source": [
    "def test(words):\n",
    "    # Use the max function to find the string with the maximum length in 'words' based on the key=len (length of each string)\n",
    "    return max(words, key=len)\n",
    "\n",
    "# Create a list of strings 'strs' with specific elements\n",
    "strs = ['cat', 'car', 'fear', 'center']\n",
    "\n",
    "# Print the original list of strings\n",
    "print(\"Original strings:\")\n",
    "print(strs)\n",
    "\n",
    "# Print a message indicating the operation to be performed on the list\n",
    "print(\"Longest string of the said list of strings:\")\n",
    "\n",
    "# Print the result of the test function applied to the 'strs' list\n",
    "print(test(strs))"
   ]
  },
  {
   "cell_type": "code",
   "execution_count": 20,
   "metadata": {},
   "outputs": [
    {
     "name": "stdout",
     "output_type": "stream",
     "text": [
      "Original list:\n",
      "[1, 2, 3, 4, 5, 6]\n",
      "Check the direction ('increasing' or 'decreasing') of the said list:\n",
      "Increasing.\n",
      "\n",
      "Original list:\n",
      "[6, 5, 4, 3, 2, 1]\n",
      "Check the direction ('increasing' or 'decreasing') of the said list:\n",
      "Decreasing.\n",
      "\n",
      "Original list:\n",
      "[19, 19, 5, 5, 5, 5, 5]\n",
      "Check the direction ('increasing' or 'decreasing') of the said list:\n",
      "Not a monotonic sequence!\n"
     ]
    }
   ],
   "source": [
    "# Define a function named 'test' that takes a list of numbers 'nums' as input\n",
    "def test(nums):\n",
    "    # Check if all elements in the list 'nums' are in increasing order\n",
    "    if all(nums[i] < nums[i + 1] for i in range(len(nums) - 1)):\n",
    "        return \"Increasing.\"\n",
    "    # Check if all elements in the list 'nums' are in decreasing order\n",
    "    elif all(nums[i + 1] < nums[i] for i in range(len(nums) - 1)):\n",
    "        return \"Decreasing.\"\n",
    "    else:\n",
    "        return \"Not a monotonic sequence!\"\n",
    "\n",
    "# Assign a specific list of numbers 'nums' to the variable\n",
    "nums = [1, 2, 3, 4, 5, 6]\n",
    "\n",
    "# Print the original list of numbers 'nums'\n",
    "print(\"Original list:\")\n",
    "print(nums)\n",
    "\n",
    "# Print a message indicating the operation to be performed\n",
    "print(\"Check the direction ('increasing' or 'decreasing') of the said list:\")\n",
    "\n",
    "# Print the result of the test function applied to the 'nums' list\n",
    "print(test(nums))\n",
    "\n",
    "# Assign a different list of numbers 'nums' to the variable\n",
    "nums = [6, 5, 4, 3, 2, 1]\n",
    "\n",
    "# Print the original list of numbers 'nums'\n",
    "print(\"\\nOriginal list:\")\n",
    "print(nums)\n",
    "\n",
    "# Print a message indicating the operation to be performed\n",
    "print(\"Check the direction ('increasing' or 'decreasing') of the said list:\")\n",
    "\n",
    "# Print the result of the test function applied to the updated 'nums' list\n",
    "print(test(nums))\n",
    "\n",
    "# Assign another different list of numbers 'nums' to the variable\n",
    "nums = [19, 19, 5, 5, 5, 5, 5]\n",
    "\n",
    "# Print the original list of numbers 'nums'\n",
    "print(\"\\nOriginal list:\")\n",
    "print(nums)\n",
    "\n",
    "# Print a message indicating the operation to be performed\n",
    "print(\"Check the direction ('increasing' or 'decreasing') of the said list:\")\n",
    "\n",
    "# Print the result of the test function applied to the updated 'nums' list\n",
    "print(test(nums))"
   ]
  },
  {
   "cell_type": "code",
   "execution_count": 21,
   "metadata": {},
   "outputs": [
    {
     "name": "stdout",
     "output_type": "stream",
     "text": [
      "Original list:\n",
      "['100', '102,1', '101.1']\n",
      "Largest number where commas or periods are decimal points:\n",
      "102.1\n"
     ]
    }
   ],
   "source": [
    "# Define a function named 'test' that takes a list of strings 'str_nums' as input\n",
    "def test(str_nums):\n",
    "    # Use a generator expression to iterate through each string in 'str_nums'\n",
    "    # Replace commas with periods and convert each string to a float, then find the maximum value\n",
    "    return max(float(s.replace(\",\", \".\")) for s in str_nums)\n",
    "\n",
    "# Assign a specific list of strings 'str_nums' to the variable\n",
    "str_nums = [\"100\", \"102,1\", \"101.1\"]\n",
    "\n",
    "# Print the original list of strings 'str_nums'\n",
    "print(\"Original list:\")\n",
    "print(str_nums)\n",
    "\n",
    "# Print a message indicating the operation to be performed\n",
    "print(\"Largest number where commas or periods are decimal points:\")\n",
    "\n",
    "# Print the result of the test function applied to the 'str_nums' list\n",
    "print(test(str_nums))"
   ]
  },
  {
   "cell_type": "code",
   "execution_count": 22,
   "metadata": {},
   "outputs": [
    {
     "name": "stdout",
     "output_type": "stream",
     "text": [
      "Original list:\n",
      "['cat', 'catatatatctsa', 'abcdefhijklmnop', '124259239185125', '', 'foo', 'unique']\n",
      "Select a string from the said list of strings with the most unique characters:\n",
      "abcdefhijklmnop\n"
     ]
    }
   ],
   "source": [
    "def test(strs):\n",
    "    # Use the max function to find the string with the most unique characters\n",
    "    # The key argument specifies a lambda function that calculates the length of the set of characters in each string\n",
    "    return max(strs, key=lambda x: len(set(x)))\n",
    "\n",
    "# Assign a specific list of strings 'strs' to the variable\n",
    "strs = ['cat', 'catatatatctsa', 'abcdefhijklmnop', '124259239185125', '', 'foo', 'unique']\n",
    "\n",
    "# Print the original list of strings 'strs'\n",
    "print(\"Original list:\")\n",
    "print(strs)\n",
    "\n",
    "# Print a message indicating the operation to be performed\n",
    "print(\"Select a string from the said list of strings with the most unique characters:\")\n",
    "\n",
    "# Print the result of the test function applied to the 'strs' list\n",
    "print(test(strs))"
   ]
  },
  {
   "cell_type": "code",
   "execution_count": 23,
   "metadata": {},
   "outputs": [
    {
     "name": "stdout",
     "output_type": "stream",
     "text": [
      "Original List:\n",
      "[['this', 'list', 'is', 'narrow'], ['I', 'am', 'shorter but wider']]\n",
      "\n",
      "Find the given list of strings that has fewer total characters:\n",
      "['this', 'list', 'is', 'narrow']\n"
     ]
    }
   ],
   "source": [
    "def test(strs):\n",
    "    # Use the min function with a lambda function as the key to find the list with the fewest total characters\n",
    "    return min(strs, key=lambda x: sum(len(i) for i in x))\n",
    "\n",
    "# Assign a specific list of lists of strings 'strs' to the variable\n",
    "strs = [['this', 'list', 'is', 'narrow'], ['I', 'am', 'shorter but wider']]\n",
    "\n",
    "# Print the original list of lists of strings 'strs'\n",
    "print(\"Original List:\")\n",
    "print(strs)\n",
    "\n",
    "# Print a message indicating the operation to be performed\n",
    "print(\"\\nFind the given list of strings that has fewer total characters:\")\n",
    "\n",
    "# Print the result of the test function applied to the 'strs' list\n",
    "print(test(strs))"
   ]
  }
 ],
 "metadata": {
  "kaggle": {
   "accelerator": "nvidiaTeslaT4",
   "dataSources": [
    {
     "datasetId": 1939,
     "sourceId": 438431,
     "sourceType": "datasetVersion"
    }
   ],
   "dockerImageVersionId": 30235,
   "isGpuEnabled": true,
   "isInternetEnabled": false,
   "language": "python",
   "sourceType": "notebook"
  },
  "kernelspec": {
   "display_name": "nlp_env",
   "language": "python",
   "name": "nlp_env"
  },
  "language_info": {
   "codemirror_mode": {
    "name": "ipython",
    "version": 3
   },
   "file_extension": ".py",
   "mimetype": "text/x-python",
   "name": "python",
   "nbconvert_exporter": "python",
   "pygments_lexer": "ipython3",
   "version": "3.11.9"
  }
 },
 "nbformat": 4,
 "nbformat_minor": 4
}
