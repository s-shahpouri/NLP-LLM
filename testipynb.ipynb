{
 "cells": [
  {
   "cell_type": "code",
   "execution_count": 2,
   "metadata": {},
   "outputs": [
    {
     "name": "stdout",
     "output_type": "stream",
     "text": [
      "True\n",
      "False\n"
     ]
    }
   ],
   "source": [
    "def validate_parentheses(s):\n",
    "    stack = []\n",
    "    for char in s:\n",
    "        if char == '(':\n",
    "            stack.append(char)\n",
    "        elif char == ')':\n",
    "            if not stack:\n",
    "                return False\n",
    "            stack.pop()\n",
    "    return not stack\n",
    "\n",
    "# Test\n",
    "print(validate_parentheses(\"((efgfdbfdsdfd))\"))  # Output: True\n",
    "print(validate_parentheses(\"((sedrg)\"))   # Output: False\n"
   ]
  },
  {
   "cell_type": "code",
   "execution_count": 12,
   "metadata": {},
   "outputs": [
    {
     "name": "stdout",
     "output_type": "stream",
     "text": [
      "Room the in Elephants\n"
     ]
    }
   ],
   "source": [
    "def reverse_words(s):\n",
    "    return ' '.join(s.split()[::-1])\n",
    "print(reverse_words(\"Elephants in the Room\"))\n"
   ]
  },
  {
   "cell_type": "code",
   "execution_count": 13,
   "metadata": {},
   "outputs": [
    {
     "name": "stdout",
     "output_type": "stream",
     "text": [
      "mooR eht ni stnahpelE\n"
     ]
    }
   ],
   "source": [
    "def reverse_words_and_letters(sentence):\n",
    "    # Split the sentence into words, reverse each word, and reverse the order of the words\n",
    "    reversed_sentence = ' '.join(word[::-1] for word in sentence.split()[::-1])\n",
    "    return reversed_sentence\n",
    "\n",
    "# Test\n",
    "\n",
    "\n",
    "text = 'Elephants in the Room'\n",
    "print(reverse_words_and_letters(text))  # Output: \"mooR eht ni stnahpelE\"\n",
    "\n"
   ]
  },
  {
   "cell_type": "markdown",
   "metadata": {},
   "source": [
    "Write a function that rotates a list to the right by k steps.\n",
    "\n",
    "Input: [1, 2, 3, 4, 5], k = 2\n",
    "Output: [4, 5, 1, 2, 3]"
   ]
  },
  {
   "cell_type": "code",
   "execution_count": 20,
   "metadata": {},
   "outputs": [
    {
     "name": "stdout",
     "output_type": "stream",
     "text": [
      "[4, 5, 1, 2, 3]\n"
     ]
    }
   ],
   "source": [
    "def rotate (input, k):\n",
    "    return print(input[-k:] + input[:-k])\n",
    "\n",
    "input = [1, 2, 3, 4, 5]\n",
    "k = 2\n",
    "rotate(input, k)"
   ]
  }
 ],
 "metadata": {
  "kaggle": {
   "accelerator": "nvidiaTeslaT4",
   "dataSources": [
    {
     "datasetId": 1939,
     "sourceId": 438431,
     "sourceType": "datasetVersion"
    }
   ],
   "dockerImageVersionId": 30235,
   "isGpuEnabled": true,
   "isInternetEnabled": false,
   "language": "python",
   "sourceType": "notebook"
  },
  "kernelspec": {
   "display_name": "nlp_env",
   "language": "python",
   "name": "nlp_env"
  },
  "language_info": {
   "codemirror_mode": {
    "name": "ipython",
    "version": 3
   },
   "file_extension": ".py",
   "mimetype": "text/x-python",
   "name": "python",
   "nbconvert_exporter": "python",
   "pygments_lexer": "ipython3",
   "version": "3.11.9"
  }
 },
 "nbformat": 4,
 "nbformat_minor": 4
}
